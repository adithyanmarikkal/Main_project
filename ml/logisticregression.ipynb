{
 "cells": [
  {
   "cell_type": "markdown",
   "id": "cabd9169",
   "metadata": {},
   "source": [
    "Installing essential modules"
   ]
  },
  {
   "cell_type": "code",
   "execution_count": 1,
   "id": "8324cd93",
   "metadata": {},
   "outputs": [
    {
     "name": "stdout",
     "output_type": "stream",
     "text": [
      "Defaulting to user installation because normal site-packages is not writeable\n",
      "Requirement already satisfied: pandas in /home/adithyan/.local/lib/python3.13/site-packages (2.3.2)\n",
      "Requirement already satisfied: numpy in /home/adithyan/.local/lib/python3.13/site-packages (2.3.2)\n",
      "Requirement already satisfied: matplotlib in /home/adithyan/.local/lib/python3.13/site-packages (3.10.6)\n",
      "Requirement already satisfied: seaborn in /home/adithyan/.local/lib/python3.13/site-packages (0.13.2)\n",
      "Requirement already satisfied: tabulate in /home/adithyan/.local/lib/python3.13/site-packages (0.9.0)\n",
      "Requirement already satisfied: python-dateutil>=2.8.2 in /usr/lib/python3.13/site-packages (from pandas) (2.8.2)\n",
      "Requirement already satisfied: pytz>=2020.1 in /home/adithyan/.local/lib/python3.13/site-packages (from pandas) (2025.2)\n",
      "Requirement already satisfied: tzdata>=2022.7 in /home/adithyan/.local/lib/python3.13/site-packages (from pandas) (2025.2)\n",
      "Requirement already satisfied: contourpy>=1.0.1 in /home/adithyan/.local/lib/python3.13/site-packages (from matplotlib) (1.3.3)\n",
      "Requirement already satisfied: cycler>=0.10 in /home/adithyan/.local/lib/python3.13/site-packages (from matplotlib) (0.12.1)\n",
      "Requirement already satisfied: fonttools>=4.22.0 in /home/adithyan/.local/lib/python3.13/site-packages (from matplotlib) (4.59.2)\n",
      "Requirement already satisfied: kiwisolver>=1.3.1 in /home/adithyan/.local/lib/python3.13/site-packages (from matplotlib) (1.4.9)\n",
      "Requirement already satisfied: packaging>=20.0 in /usr/lib/python3.13/site-packages (from matplotlib) (24.2)\n",
      "Requirement already satisfied: pillow>=8 in /usr/lib64/python3.13/site-packages (from matplotlib) (11.1.0)\n",
      "Requirement already satisfied: pyparsing>=2.3.1 in /home/adithyan/.local/lib/python3.13/site-packages (from matplotlib) (3.2.3)\n",
      "Requirement already satisfied: six>=1.5 in /usr/lib/python3.13/site-packages (from python-dateutil>=2.8.2->pandas) (1.17.0)\n",
      "Note: you may need to restart the kernel to use updated packages.\n"
     ]
    }
   ],
   "source": [
    "pip install pandas numpy matplotlib seaborn tabulate"
   ]
  },
  {
   "cell_type": "code",
   "execution_count": 2,
   "id": "7b7e57ae",
   "metadata": {},
   "outputs": [
    {
     "name": "stdout",
     "output_type": "stream",
     "text": [
      "Defaulting to user installation because normal site-packages is not writeable\n",
      "Requirement already satisfied: scikit-learn in /home/adithyan/.local/lib/python3.13/site-packages (1.7.1)\n",
      "Requirement already satisfied: tensorflow in /home/adithyan/.local/lib/python3.13/site-packages (2.20.0)\n",
      "Requirement already satisfied: numpy>=1.22.0 in /home/adithyan/.local/lib/python3.13/site-packages (from scikit-learn) (2.3.2)\n",
      "Requirement already satisfied: scipy>=1.8.0 in /home/adithyan/.local/lib/python3.13/site-packages (from scikit-learn) (1.16.1)\n",
      "Requirement already satisfied: joblib>=1.2.0 in /home/adithyan/.local/lib/python3.13/site-packages (from scikit-learn) (1.5.2)\n",
      "Requirement already satisfied: threadpoolctl>=3.1.0 in /home/adithyan/.local/lib/python3.13/site-packages (from scikit-learn) (3.6.0)\n",
      "Requirement already satisfied: absl-py>=1.0.0 in /home/adithyan/.local/lib/python3.13/site-packages (from tensorflow) (2.3.1)\n",
      "Requirement already satisfied: astunparse>=1.6.0 in /home/adithyan/.local/lib/python3.13/site-packages (from tensorflow) (1.6.3)\n",
      "Requirement already satisfied: flatbuffers>=24.3.25 in /home/adithyan/.local/lib/python3.13/site-packages (from tensorflow) (25.2.10)\n",
      "Requirement already satisfied: gast!=0.5.0,!=0.5.1,!=0.5.2,>=0.2.1 in /home/adithyan/.local/lib/python3.13/site-packages (from tensorflow) (0.6.0)\n",
      "Requirement already satisfied: google_pasta>=0.1.1 in /home/adithyan/.local/lib/python3.13/site-packages (from tensorflow) (0.2.0)\n",
      "Requirement already satisfied: libclang>=13.0.0 in /home/adithyan/.local/lib/python3.13/site-packages (from tensorflow) (18.1.1)\n",
      "Requirement already satisfied: opt_einsum>=2.3.2 in /home/adithyan/.local/lib/python3.13/site-packages (from tensorflow) (3.4.0)\n",
      "Requirement already satisfied: packaging in /usr/lib/python3.13/site-packages (from tensorflow) (24.2)\n",
      "Requirement already satisfied: protobuf>=5.28.0 in /home/adithyan/.local/lib/python3.13/site-packages (from tensorflow) (6.32.0)\n",
      "Requirement already satisfied: requests<3,>=2.21.0 in /usr/lib/python3.13/site-packages (from tensorflow) (2.32.4)\n",
      "Requirement already satisfied: setuptools in /usr/lib/python3.13/site-packages (from tensorflow) (74.1.3)\n",
      "Requirement already satisfied: six>=1.12.0 in /usr/lib/python3.13/site-packages (from tensorflow) (1.17.0)\n",
      "Requirement already satisfied: termcolor>=1.1.0 in /home/adithyan/.local/lib/python3.13/site-packages (from tensorflow) (3.1.0)\n",
      "Requirement already satisfied: typing_extensions>=3.6.6 in /usr/lib/python3.13/site-packages (from tensorflow) (4.12.2)\n",
      "Requirement already satisfied: wrapt>=1.11.0 in /home/adithyan/.local/lib/python3.13/site-packages (from tensorflow) (1.17.3)\n",
      "Requirement already satisfied: grpcio<2.0,>=1.24.3 in /home/adithyan/.local/lib/python3.13/site-packages (from tensorflow) (1.74.0)\n",
      "Requirement already satisfied: tensorboard~=2.20.0 in /home/adithyan/.local/lib/python3.13/site-packages (from tensorflow) (2.20.0)\n",
      "Requirement already satisfied: keras>=3.10.0 in /home/adithyan/.local/lib/python3.13/site-packages (from tensorflow) (3.11.3)\n",
      "Requirement already satisfied: h5py>=3.11.0 in /home/adithyan/.local/lib/python3.13/site-packages (from tensorflow) (3.14.0)\n",
      "Requirement already satisfied: ml_dtypes<1.0.0,>=0.5.1 in /home/adithyan/.local/lib/python3.13/site-packages (from tensorflow) (0.5.3)\n",
      "Requirement already satisfied: wheel<1.0,>=0.23.0 in /home/adithyan/.local/lib/python3.13/site-packages (from astunparse>=1.6.0->tensorflow) (0.45.1)\n",
      "Requirement already satisfied: rich in /home/adithyan/.local/lib/python3.13/site-packages (from keras>=3.10.0->tensorflow) (14.1.0)\n",
      "Requirement already satisfied: namex in /home/adithyan/.local/lib/python3.13/site-packages (from keras>=3.10.0->tensorflow) (0.1.0)\n",
      "Requirement already satisfied: optree in /home/adithyan/.local/lib/python3.13/site-packages (from keras>=3.10.0->tensorflow) (0.17.0)\n",
      "Requirement already satisfied: charset-normalizer<4,>=2 in /usr/lib/python3.13/site-packages (from requests<3,>=2.21.0->tensorflow) (3.4.1)\n",
      "Requirement already satisfied: idna<4,>=2.5 in /usr/lib/python3.13/site-packages (from requests<3,>=2.21.0->tensorflow) (3.10)\n",
      "Requirement already satisfied: urllib3<3,>=1.21.1 in /usr/lib/python3.13/site-packages (from requests<3,>=2.21.0->tensorflow) (2.3.0)\n",
      "Requirement already satisfied: markdown>=2.6.8 in /home/adithyan/.local/lib/python3.13/site-packages (from tensorboard~=2.20.0->tensorflow) (3.8.2)\n",
      "Requirement already satisfied: pillow in /usr/lib64/python3.13/site-packages (from tensorboard~=2.20.0->tensorflow) (11.1.0)\n",
      "Requirement already satisfied: tensorboard-data-server<0.8.0,>=0.7.0 in /home/adithyan/.local/lib/python3.13/site-packages (from tensorboard~=2.20.0->tensorflow) (0.7.2)\n",
      "Requirement already satisfied: werkzeug>=1.0.1 in /home/adithyan/.local/lib/python3.13/site-packages (from tensorboard~=2.20.0->tensorflow) (3.1.3)\n",
      "Requirement already satisfied: MarkupSafe>=2.1.1 in /home/adithyan/.local/lib/python3.13/site-packages (from werkzeug>=1.0.1->tensorboard~=2.20.0->tensorflow) (3.0.2)\n",
      "Requirement already satisfied: markdown-it-py>=2.2.0 in /home/adithyan/.local/lib/python3.13/site-packages (from rich->keras>=3.10.0->tensorflow) (4.0.0)\n",
      "Requirement already satisfied: pygments<3.0.0,>=2.13.0 in /home/adithyan/.local/lib/python3.13/site-packages (from rich->keras>=3.10.0->tensorflow) (2.19.2)\n",
      "Requirement already satisfied: mdurl~=0.1 in /home/adithyan/.local/lib/python3.13/site-packages (from markdown-it-py>=2.2.0->rich->keras>=3.10.0->tensorflow) (0.1.2)\n",
      "Note: you may need to restart the kernel to use updated packages.\n"
     ]
    }
   ],
   "source": [
    "pip install scikit-learn tensorflow"
   ]
  },
  {
   "cell_type": "markdown",
   "id": "65deea38",
   "metadata": {},
   "source": [
    "This import the essential modules needed"
   ]
  },
  {
   "cell_type": "code",
   "execution_count": 3,
   "id": "a869ac26",
   "metadata": {},
   "outputs": [],
   "source": [
    "import pandas as pd\n",
    "import numpy as np\n",
    "import matplotlib.pyplot as plt\n",
    "import seaborn as sns\n",
    "import gc\n",
    "from tabulate import tabulate\n"
   ]
  },
  {
   "cell_type": "code",
   "execution_count": 4,
   "id": "1d32f59e",
   "metadata": {},
   "outputs": [],
   "source": [
    "from sklearn import preprocessing\n",
    "from sklearn.cluster import DBSCAN\n",
    "from sklearn.model_selection import train_test_split, cross_val_score\n",
    "from sklearn.preprocessing import StandardScaler, LabelBinarizer, MinMaxScaler\n",
    "from sklearn.neighbors import NearestNeighbors\n",
    "from sklearn.ensemble import RandomForestClassifier, GradientBoostingClassifier\n",
    "from sklearn.svm import SVC\n",
    "from sklearn.metrics import (\n",
    "    classification_report, \n",
    "    confusion_matrix, \n",
    "    accuracy_score, \n",
    "    precision_score, \n",
    "    recall_score, \n",
    "    f1_score\n",
    ")"
   ]
  },
  {
   "cell_type": "code",
   "execution_count": 5,
   "id": "1b63b3db",
   "metadata": {},
   "outputs": [
    {
     "name": "stderr",
     "output_type": "stream",
     "text": [
      "2025-09-04 08:31:34.377095: I external/local_xla/xla/tsl/cuda/cudart_stub.cc:31] Could not find cuda drivers on your machine, GPU will not be used.\n",
      "2025-09-04 08:31:34.800644: I tensorflow/core/platform/cpu_feature_guard.cc:210] This TensorFlow binary is optimized to use available CPU instructions in performance-critical operations.\n",
      "To enable the following instructions: AVX2 FMA, in other operations, rebuild TensorFlow with the appropriate compiler flags.\n",
      "2025-09-04 08:31:36.598629: I external/local_xla/xla/tsl/cuda/cudart_stub.cc:31] Could not find cuda drivers on your machine, GPU will not be used.\n"
     ]
    }
   ],
   "source": [
    "import tensorflow as tf\n",
    "from tensorflow.keras.utils import to_categorical, plot_model\n",
    "from tensorflow.keras.models import Sequential\n",
    "from tensorflow.keras.layers import (\n",
    "    Conv1D, \n",
    "    MaxPooling1D, \n",
    "    Flatten, \n",
    "    Dense, \n",
    "    Dropout\n",
    ")\n",
    "from tensorflow.keras.applications import VGG16\n",
    "from tensorflow.keras.utils import Sequence"
   ]
  },
  {
   "cell_type": "code",
   "execution_count": 7,
   "id": "61ad84ad",
   "metadata": {},
   "outputs": [
    {
     "name": "stdout",
     "output_type": "stream",
     "text": [
      "   flow_duration  Header_Length  Protocol Type  Duration         Rate  \\\n",
      "0       0.000000          54.00           6.00     64.00     0.329807   \n",
      "1       0.000000          57.04           6.33     64.00     4.290556   \n",
      "2       0.000000           0.00           1.00     64.00    33.396799   \n",
      "3       0.328175       76175.00          17.00     64.00  4642.133010   \n",
      "4       0.117320         101.73           6.11     65.91     6.202211   \n",
      "\n",
      "         Srate  Drate  fin_flag_number  syn_flag_number  rst_flag_number  ...  \\\n",
      "0     0.329807    0.0              1.0              0.0              1.0  ...   \n",
      "1     4.290556    0.0              0.0              0.0              0.0  ...   \n",
      "2    33.396799    0.0              0.0              0.0              0.0  ...   \n",
      "3  4642.133010    0.0              0.0              0.0              0.0  ...   \n",
      "4     6.202211    0.0              0.0              1.0              0.0  ...   \n",
      "\n",
      "         Std  Tot size           IAT  Number   Magnitue     Radius  \\\n",
      "0   0.000000     54.00  8.334383e+07     9.5  10.392305   0.000000   \n",
      "1   2.822973     57.04  8.292607e+07     9.5  10.464666   4.010353   \n",
      "2   0.000000     42.00  8.312799e+07     9.5   9.165151   0.000000   \n",
      "3   0.000000     50.00  8.301570e+07     9.5  10.000000   0.000000   \n",
      "4  23.113111     57.88  8.297300e+07     9.5  11.346876  32.716243   \n",
      "\n",
      "    Covariance  Variance  Weight             label  \n",
      "0     0.000000      0.00  141.55  DDoS-RSTFINFlood  \n",
      "1   160.987842      0.05  141.55     DoS-TCP_Flood  \n",
      "2     0.000000      0.00  141.55   DDoS-ICMP_Flood  \n",
      "3     0.000000      0.00  141.55     DoS-UDP_Flood  \n",
      "4  3016.808286      0.19  141.55     DoS-SYN_Flood  \n",
      "\n",
      "[5 rows x 47 columns]\n"
     ]
    }
   ],
   "source": [
    "import pandas as pd\n",
    "import glob\n",
    "\n",
    "csv_files = glob.glob(\"/home/adithyan/Desktop/Main_project/data/*.csv\")\n",
    "df_sample = pd.read_csv(csv_files[0])\n",
    "print(df_sample.head())"
   ]
  },
  {
   "cell_type": "code",
   "execution_count": 11,
   "id": "7e2171ee",
   "metadata": {},
   "outputs": [
    {
     "name": "stdout",
     "output_type": "stream",
     "text": [
      "   flow_duration  Header_Length  Protocol Type  Duration          Rate  \\\n",
      "0       0.000000          53.46           5.94     63.36      1.145800   \n",
      "1       0.000000          54.00           6.00     64.00      1.027823   \n",
      "2       2.204616          93.96           6.00     64.00      0.671213   \n",
      "3       0.053618       12497.00          17.00     64.00  47647.897124   \n",
      "4       0.000000           0.00           1.00     64.00      0.667744   \n",
      "\n",
      "          Srate  Drate  fin_flag_number  syn_flag_number  rst_flag_number  \\\n",
      "0      1.145800    0.0              0.0              1.0              0.0   \n",
      "1      1.027823    0.0              0.0              0.0              0.0   \n",
      "2      0.671213    0.0              0.0              1.0              0.0   \n",
      "3  47647.897124    0.0              0.0              0.0              0.0   \n",
      "4      0.667744    0.0              0.0              0.0              0.0   \n",
      "\n",
      "   ...       Std  Tot size           IAT  Number   Magnitue    Radius  \\\n",
      "0  ...  0.040218     54.06  8.309402e+07     9.5  10.393232  0.057331   \n",
      "1  ...  0.000000     54.00  8.307159e+07     9.5  10.392305  0.000000   \n",
      "2  ...  0.000000     54.00  8.336561e+07     9.5  10.392305  0.000000   \n",
      "3  ...  0.000000     50.00  8.310693e+07     9.5  10.000000  0.000000   \n",
      "4  ...  0.000000     42.00  8.314933e+07     9.5   9.165151  0.000000   \n",
      "\n",
      "   Covariance  Variance  Weight                    label  \n",
      "0    0.054789      0.03  141.55           DDoS-SYN_Flood  \n",
      "1    0.000000      0.00  141.55           DDoS-TCP_Flood  \n",
      "2    0.000000      0.00  141.55  DDoS-SynonymousIP_Flood  \n",
      "3    0.000000      0.00  141.55           DDoS-UDP_Flood  \n",
      "4    0.000000      0.00  141.55          DDoS-ICMP_Flood  \n",
      "\n",
      "[5 rows x 47 columns]\n"
     ]
    }
   ],
   "source": [
    "df_sample1 = pd.read_csv(csv_files[1])\n",
    "print(df_sample1.head())"
   ]
  },
  {
   "cell_type": "code",
   "execution_count": null,
   "id": "d64f5a20",
   "metadata": {},
   "outputs": [],
   "source": []
  }
 ],
 "metadata": {
  "kernelspec": {
   "display_name": "Python 3",
   "language": "python",
   "name": "python3"
  },
  "language_info": {
   "codemirror_mode": {
    "name": "ipython",
    "version": 3
   },
   "file_extension": ".py",
   "mimetype": "text/x-python",
   "name": "python",
   "nbconvert_exporter": "python",
   "pygments_lexer": "ipython3",
   "version": "3.13.7"
  }
 },
 "nbformat": 4,
 "nbformat_minor": 5
}
